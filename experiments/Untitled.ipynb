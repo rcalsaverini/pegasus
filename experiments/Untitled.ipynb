{
 "cells": [
  {
   "cell_type": "code",
   "execution_count": 17,
   "id": "8c1ba276",
   "metadata": {
    "ExecuteTime": {
     "end_time": "2021-11-04T01:11:36.752783Z",
     "start_time": "2021-11-04T01:11:36.749940Z"
    }
   },
   "outputs": [],
   "source": [
    "import wrapt\n",
    "from functools import wraps"
   ]
  },
  {
   "cell_type": "code",
   "execution_count": 21,
   "id": "5c7a5d1a",
   "metadata": {
    "ExecuteTime": {
     "end_time": "2021-11-04T01:11:47.588433Z",
     "start_time": "2021-11-04T01:11:47.582764Z"
    }
   },
   "outputs": [],
   "source": [
    "def stateful(initial_state, state_updater):\n",
    "    \n",
    "    class Stateful:\n",
    "        \n",
    "        def __init__(self, wrapped):\n",
    "            self.wrapped = wrapped\n",
    "            self._state = initial_state\n",
    "            \n",
    "        @property\n",
    "        def state(self):\n",
    "            return self._state\n",
    "        \n",
    "        @state.setter\n",
    "        def state(self, value):\n",
    "            self._state = value\n",
    "        \n",
    "        def __call__(self, *args, **kwargs):\n",
    "            output = self.wrapped(self.state, *args, **kwargs)\n",
    "            self.state = state_updater(self.state, *args, **kwargs)\n",
    "            return output\n",
    "        \n",
    "    def wrapper(wrapped):\n",
    "        return wraps(wrapped)(Stateful(wrapped))\n",
    "            \n",
    "    return wrapper"
   ]
  },
  {
   "cell_type": "code",
   "execution_count": 30,
   "id": "6a74318d",
   "metadata": {
    "ExecuteTime": {
     "end_time": "2021-11-04T01:15:15.551224Z",
     "start_time": "2021-11-04T01:15:15.547718Z"
    }
   },
   "outputs": [],
   "source": [
    "def state_updater(state, x):\n",
    "    state = state + x\n",
    "    return state\n",
    "\n",
    "@stateful(0, state_updater)\n",
    "def callback(state, x):\n",
    "    return state"
   ]
  },
  {
   "cell_type": "code",
   "execution_count": 31,
   "id": "922f28f8",
   "metadata": {
    "ExecuteTime": {
     "end_time": "2021-11-04T01:15:15.997406Z",
     "start_time": "2021-11-04T01:15:15.993477Z"
    }
   },
   "outputs": [
    {
     "data": {
      "text/plain": [
       "0"
      ]
     },
     "execution_count": 31,
     "metadata": {},
     "output_type": "execute_result"
    }
   ],
   "source": [
    "callback(1)"
   ]
  },
  {
   "cell_type": "code",
   "execution_count": 32,
   "id": "de7e5e57",
   "metadata": {
    "ExecuteTime": {
     "end_time": "2021-11-04T01:15:28.812817Z",
     "start_time": "2021-11-04T01:15:28.808751Z"
    }
   },
   "outputs": [
    {
     "data": {
      "text/plain": [
       "1"
      ]
     },
     "execution_count": 32,
     "metadata": {},
     "output_type": "execute_result"
    }
   ],
   "source": [
    "callback(7)"
   ]
  },
  {
   "cell_type": "code",
   "execution_count": 33,
   "id": "185d25fe",
   "metadata": {
    "ExecuteTime": {
     "end_time": "2021-11-04T01:15:39.317798Z",
     "start_time": "2021-11-04T01:15:39.313607Z"
    }
   },
   "outputs": [
    {
     "data": {
      "text/plain": [
       "8"
      ]
     },
     "execution_count": 33,
     "metadata": {},
     "output_type": "execute_result"
    }
   ],
   "source": [
    "callback(3)"
   ]
  },
  {
   "cell_type": "code",
   "execution_count": 34,
   "id": "cf33991a",
   "metadata": {
    "ExecuteTime": {
     "end_time": "2021-11-04T01:15:43.976498Z",
     "start_time": "2021-11-04T01:15:43.973030Z"
    }
   },
   "outputs": [
    {
     "data": {
      "text/plain": [
       "11"
      ]
     },
     "execution_count": 34,
     "metadata": {},
     "output_type": "execute_result"
    }
   ],
   "source": [
    "callback.state"
   ]
  },
  {
   "cell_type": "code",
   "execution_count": 35,
   "id": "1fbad40a",
   "metadata": {
    "ExecuteTime": {
     "end_time": "2021-11-04T01:15:50.514172Z",
     "start_time": "2021-11-04T01:15:50.511345Z"
    }
   },
   "outputs": [],
   "source": [
    "callback.state = 1923"
   ]
  },
  {
   "cell_type": "code",
   "execution_count": 36,
   "id": "14a6de42",
   "metadata": {
    "ExecuteTime": {
     "end_time": "2021-11-04T01:15:56.016787Z",
     "start_time": "2021-11-04T01:15:56.013001Z"
    }
   },
   "outputs": [
    {
     "data": {
      "text/plain": [
       "1923"
      ]
     },
     "execution_count": 36,
     "metadata": {},
     "output_type": "execute_result"
    }
   ],
   "source": [
    "callback(5)"
   ]
  },
  {
   "cell_type": "code",
   "execution_count": null,
   "id": "1974c645",
   "metadata": {
    "ExecuteTime": {
     "end_time": "2021-11-03T23:46:22.938447Z",
     "start_time": "2021-11-03T23:46:22.932497Z"
    }
   },
   "outputs": [],
   "source": [
    "def callback_factory(initial_state):\n",
    "\n",
    "    state = initial_state\n",
    "\n",
    "    def callback(x):\n",
    "        nonlocal state\n",
    "        state += x\n",
    "        return state\n",
    "    \n",
    "    def get_state():\n",
    "        return state\n",
    "    \n",
    "    def set_state(value):\n",
    "        nonlocal state\n",
    "        state = value\n",
    "    \n",
    "    callback.get_state = get_state\n",
    "    callback.set_statea = set_state\n",
    "\n",
    "        \n",
    "    return callback\n",
    "\n",
    "\n",
    "class Callback:\n",
    "    def __init__(self, initial_state):\n",
    "        self._state = initial_state\n",
    "        \n",
    "    @property\n",
    "    def state(self):\n",
    "        return self._state\n",
    "    \n",
    "    @state.setter\n",
    "    def state(self, value):\n",
    "        self._state = value\n",
    "        \n",
    "    def __call__(self, x):\n",
    "        self.state += x\n",
    "        return self.state"
   ]
  },
  {
   "cell_type": "code",
   "execution_count": null,
   "id": "62e0a6f3",
   "metadata": {
    "ExecuteTime": {
     "end_time": "2021-11-03T23:44:17.468238Z",
     "start_time": "2021-11-03T23:44:17.465655Z"
    }
   },
   "outputs": [],
   "source": [
    "my_callback = callback_factory(0)"
   ]
  },
  {
   "cell_type": "code",
   "execution_count": null,
   "id": "1bb4cab1",
   "metadata": {
    "ExecuteTime": {
     "end_time": "2021-11-03T23:44:02.339433Z",
     "start_time": "2021-11-03T23:44:02.334750Z"
    }
   },
   "outputs": [],
   "source": [
    "my_callback(235)"
   ]
  },
  {
   "cell_type": "code",
   "execution_count": null,
   "id": "45387e27",
   "metadata": {
    "ExecuteTime": {
     "end_time": "2021-11-03T23:44:11.485358Z",
     "start_time": "2021-11-03T23:44:11.481153Z"
    }
   },
   "outputs": [],
   "source": [
    "my_callback.get_state()"
   ]
  },
  {
   "cell_type": "code",
   "execution_count": null,
   "id": "b4a3daac",
   "metadata": {},
   "outputs": [],
   "source": []
  }
 ],
 "metadata": {
  "kernelspec": {
   "display_name": "Python 3",
   "language": "python",
   "name": "python3"
  },
  "language_info": {
   "codemirror_mode": {
    "name": "ipython",
    "version": 3
   },
   "file_extension": ".py",
   "mimetype": "text/x-python",
   "name": "python",
   "nbconvert_exporter": "python",
   "pygments_lexer": "ipython3",
   "version": "3.6.13"
  },
  "toc": {
   "base_numbering": 1,
   "nav_menu": {},
   "number_sections": true,
   "sideBar": true,
   "skip_h1_title": false,
   "title_cell": "Table of Contents",
   "title_sidebar": "Contents",
   "toc_cell": false,
   "toc_position": {},
   "toc_section_display": true,
   "toc_window_display": false
  },
  "varInspector": {
   "cols": {
    "lenName": 16,
    "lenType": 16,
    "lenVar": 40
   },
   "kernels_config": {
    "python": {
     "delete_cmd_postfix": "",
     "delete_cmd_prefix": "del ",
     "library": "var_list.py",
     "varRefreshCmd": "print(var_dic_list())"
    },
    "r": {
     "delete_cmd_postfix": ") ",
     "delete_cmd_prefix": "rm(",
     "library": "var_list.r",
     "varRefreshCmd": "cat(var_dic_list()) "
    }
   },
   "types_to_exclude": [
    "module",
    "function",
    "builtin_function_or_method",
    "instance",
    "_Feature"
   ],
   "window_display": false
  }
 },
 "nbformat": 4,
 "nbformat_minor": 5
}
